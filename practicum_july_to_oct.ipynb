{
  "cells": [
    {
      "cell_type": "markdown",
      "metadata": {
        "id": "view-in-github",
        "colab_type": "text"
      },
      "source": [
        "<a href=\"https://colab.research.google.com/github/Tonyhuang1006/Tony/blob/main/practicum_july_to_oct.ipynb\" target=\"_parent\"><img src=\"https://colab.research.google.com/assets/colab-badge.svg\" alt=\"Open In Colab\"/></a>"
      ]
    },
    {
      "cell_type": "code",
      "execution_count": null,
      "metadata": {
        "id": "uvo0kmjbCwXX"
      },
      "outputs": [],
      "source": [
        "import pandas as pd\n",
        "import numpy as np\n",
        "import matplotlib.pyplot as plt\n",
        "import seaborn as sns"
      ]
    },
    {
      "cell_type": "code",
      "execution_count": null,
      "metadata": {
        "id": "--04dAtmCwXa"
      },
      "outputs": [],
      "source": [
        "data1 = pd.read_csv(\"july_to_october_sessions.csv\")"
      ]
    },
    {
      "cell_type": "code",
      "execution_count": null,
      "metadata": {
        "id": "a1nUHQ-uCwXa",
        "outputId": "6a2d58f0-628d-4bbd-d569-1522ea845e23"
      },
      "outputs": [
        {
          "data": {
            "text/html": [
              "<div>\n",
              "<style scoped>\n",
              "    .dataframe tbody tr th:only-of-type {\n",
              "        vertical-align: middle;\n",
              "    }\n",
              "\n",
              "    .dataframe tbody tr th {\n",
              "        vertical-align: top;\n",
              "    }\n",
              "\n",
              "    .dataframe thead th {\n",
              "        text-align: right;\n",
              "    }\n",
              "</style>\n",
              "<table border=\"1\" class=\"dataframe\">\n",
              "  <thead>\n",
              "    <tr style=\"text-align: right;\">\n",
              "      <th></th>\n",
              "      <th>utc_sent_at</th>\n",
              "      <th>est_sent_at</th>\n",
              "      <th>webcontext_session_id</th>\n",
              "      <th>webcontext_anonymous_id</th>\n",
              "      <th>user_agent</th>\n",
              "      <th>visit_count</th>\n",
              "      <th>return_visitor</th>\n",
              "      <th>unique_pages_viewed</th>\n",
              "      <th>pages_viewed</th>\n",
              "      <th>first_page_url</th>\n",
              "      <th>...</th>\n",
              "      <th>metro_name</th>\n",
              "      <th>region</th>\n",
              "      <th>traffic_channel</th>\n",
              "      <th>total_products_viewed</th>\n",
              "      <th>unique_products_viewed</th>\n",
              "      <th>is_product_viewed</th>\n",
              "      <th>is_product_clicked</th>\n",
              "      <th>total_product_clicks</th>\n",
              "      <th>unique_product_clicks</th>\n",
              "      <th>outcome_click_count</th>\n",
              "    </tr>\n",
              "  </thead>\n",
              "  <tbody>\n",
              "    <tr>\n",
              "      <th>0</th>\n",
              "      <td>2021-07-01 00:03:45.338000</td>\n",
              "      <td>2021-06-30 20:03:45.338000</td>\n",
              "      <td>ab2a7f84-e261-4c53-969d-73520a5c98e0</td>\n",
              "      <td>dfd9b693-95c3-4a8d-8807-f05e8be13d28</td>\n",
              "      <td>Mozilla/5.0 (iPhone; CPU iPhone OS 14_6 like M...</td>\n",
              "      <td>1.0</td>\n",
              "      <td>0</td>\n",
              "      <td>1</td>\n",
              "      <td>1</td>\n",
              "      <td>https://thepointsguy.com/news/cards-with-100k-...</td>\n",
              "      <td>...</td>\n",
              "      <td>mobile-pensacola (ft walt)</td>\n",
              "      <td>fl</td>\n",
              "      <td>Social</td>\n",
              "      <td>13.0</td>\n",
              "      <td>9.0</td>\n",
              "      <td>1.0</td>\n",
              "      <td>NaN</td>\n",
              "      <td>NaN</td>\n",
              "      <td>NaN</td>\n",
              "      <td>NaN</td>\n",
              "    </tr>\n",
              "    <tr>\n",
              "      <th>1</th>\n",
              "      <td>2021-07-01 00:05:58.207000</td>\n",
              "      <td>2021-06-30 20:05:58.207000</td>\n",
              "      <td>1e2b0056-5bd6-4308-bba7-7290798c73be</td>\n",
              "      <td>5342b7fa-8938-4378-a60d-c2690f6bd6d6</td>\n",
              "      <td>Mozilla/5.0 (iPhone; CPU iPhone OS 14_4_2 like...</td>\n",
              "      <td>1.0</td>\n",
              "      <td>0</td>\n",
              "      <td>4</td>\n",
              "      <td>4</td>\n",
              "      <td>https://thepointsguy.com/news/cards-with-100k-...</td>\n",
              "      <td>...</td>\n",
              "      <td>missoula</td>\n",
              "      <td>mt</td>\n",
              "      <td>Social</td>\n",
              "      <td>13.0</td>\n",
              "      <td>9.0</td>\n",
              "      <td>1.0</td>\n",
              "      <td>1.0</td>\n",
              "      <td>2.0</td>\n",
              "      <td>1.0</td>\n",
              "      <td>NaN</td>\n",
              "    </tr>\n",
              "    <tr>\n",
              "      <th>2</th>\n",
              "      <td>2021-07-01 00:06:52.268000</td>\n",
              "      <td>2021-06-30 20:06:52.268000</td>\n",
              "      <td>eaae15e5-ce95-4746-86c3-2d7fef7ae86c</td>\n",
              "      <td>4ce29029-1dc3-4d66-9d3d-c24a7e904a56</td>\n",
              "      <td>Mozilla/5.0 (iPhone; CPU iPhone OS 14_6 like M...</td>\n",
              "      <td>1.0</td>\n",
              "      <td>0</td>\n",
              "      <td>1</td>\n",
              "      <td>1</td>\n",
              "      <td>https://thepointsguy.com/news/cards-with-100k-...</td>\n",
              "      <td>...</td>\n",
              "      <td>pittsburgh</td>\n",
              "      <td>pa</td>\n",
              "      <td>Social</td>\n",
              "      <td>NaN</td>\n",
              "      <td>NaN</td>\n",
              "      <td>NaN</td>\n",
              "      <td>NaN</td>\n",
              "      <td>NaN</td>\n",
              "      <td>NaN</td>\n",
              "      <td>NaN</td>\n",
              "    </tr>\n",
              "    <tr>\n",
              "      <th>3</th>\n",
              "      <td>2021-07-01 00:08:50.732000</td>\n",
              "      <td>2021-06-30 20:08:50.732000</td>\n",
              "      <td>e13edd10-98bc-4bf6-83cb-2d7a317250e0</td>\n",
              "      <td>b66e6cce-bc80-4c65-a274-ba49f18975a4</td>\n",
              "      <td>Mozilla/5.0 (iPhone; CPU iPhone OS 14_4_2 like...</td>\n",
              "      <td>3.0</td>\n",
              "      <td>1</td>\n",
              "      <td>1</td>\n",
              "      <td>1</td>\n",
              "      <td>https://thepointsguy.com/news/cards-with-100k-...</td>\n",
              "      <td>...</td>\n",
              "      <td>atlanta</td>\n",
              "      <td>ga</td>\n",
              "      <td>Social</td>\n",
              "      <td>20.0</td>\n",
              "      <td>9.0</td>\n",
              "      <td>1.0</td>\n",
              "      <td>NaN</td>\n",
              "      <td>NaN</td>\n",
              "      <td>NaN</td>\n",
              "      <td>NaN</td>\n",
              "    </tr>\n",
              "    <tr>\n",
              "      <th>4</th>\n",
              "      <td>2021-07-01 00:09:33.680000</td>\n",
              "      <td>2021-06-30 20:09:33.680000</td>\n",
              "      <td>46f502c1-dd33-4431-bb0c-bd68ede52885</td>\n",
              "      <td>f1c4e841-b203-44fa-8ad9-2f079bed0775</td>\n",
              "      <td>Mozilla/5.0 (iPhone; CPU iPhone OS 14_6 like M...</td>\n",
              "      <td>1.0</td>\n",
              "      <td>0</td>\n",
              "      <td>1</td>\n",
              "      <td>1</td>\n",
              "      <td>https://thepointsguy.com/card-hub/capital-one-...</td>\n",
              "      <td>...</td>\n",
              "      <td>los angeles</td>\n",
              "      <td>ca</td>\n",
              "      <td>Social</td>\n",
              "      <td>NaN</td>\n",
              "      <td>NaN</td>\n",
              "      <td>NaN</td>\n",
              "      <td>NaN</td>\n",
              "      <td>NaN</td>\n",
              "      <td>NaN</td>\n",
              "      <td>NaN</td>\n",
              "    </tr>\n",
              "  </tbody>\n",
              "</table>\n",
              "<p>5 rows × 36 columns</p>\n",
              "</div>"
            ],
            "text/plain": [
              "                  utc_sent_at                 est_sent_at  \\\n",
              "0  2021-07-01 00:03:45.338000  2021-06-30 20:03:45.338000   \n",
              "1  2021-07-01 00:05:58.207000  2021-06-30 20:05:58.207000   \n",
              "2  2021-07-01 00:06:52.268000  2021-06-30 20:06:52.268000   \n",
              "3  2021-07-01 00:08:50.732000  2021-06-30 20:08:50.732000   \n",
              "4  2021-07-01 00:09:33.680000  2021-06-30 20:09:33.680000   \n",
              "\n",
              "                  webcontext_session_id               webcontext_anonymous_id  \\\n",
              "0  ab2a7f84-e261-4c53-969d-73520a5c98e0  dfd9b693-95c3-4a8d-8807-f05e8be13d28   \n",
              "1  1e2b0056-5bd6-4308-bba7-7290798c73be  5342b7fa-8938-4378-a60d-c2690f6bd6d6   \n",
              "2  eaae15e5-ce95-4746-86c3-2d7fef7ae86c  4ce29029-1dc3-4d66-9d3d-c24a7e904a56   \n",
              "3  e13edd10-98bc-4bf6-83cb-2d7a317250e0  b66e6cce-bc80-4c65-a274-ba49f18975a4   \n",
              "4  46f502c1-dd33-4431-bb0c-bd68ede52885  f1c4e841-b203-44fa-8ad9-2f079bed0775   \n",
              "\n",
              "                                          user_agent  visit_count  \\\n",
              "0  Mozilla/5.0 (iPhone; CPU iPhone OS 14_6 like M...          1.0   \n",
              "1  Mozilla/5.0 (iPhone; CPU iPhone OS 14_4_2 like...          1.0   \n",
              "2  Mozilla/5.0 (iPhone; CPU iPhone OS 14_6 like M...          1.0   \n",
              "3  Mozilla/5.0 (iPhone; CPU iPhone OS 14_4_2 like...          3.0   \n",
              "4  Mozilla/5.0 (iPhone; CPU iPhone OS 14_6 like M...          1.0   \n",
              "\n",
              "   return_visitor  unique_pages_viewed  pages_viewed  \\\n",
              "0               0                    1             1   \n",
              "1               0                    4             4   \n",
              "2               0                    1             1   \n",
              "3               1                    1             1   \n",
              "4               0                    1             1   \n",
              "\n",
              "                                      first_page_url  ...  \\\n",
              "0  https://thepointsguy.com/news/cards-with-100k-...  ...   \n",
              "1  https://thepointsguy.com/news/cards-with-100k-...  ...   \n",
              "2  https://thepointsguy.com/news/cards-with-100k-...  ...   \n",
              "3  https://thepointsguy.com/news/cards-with-100k-...  ...   \n",
              "4  https://thepointsguy.com/card-hub/capital-one-...  ...   \n",
              "\n",
              "                   metro_name region traffic_channel total_products_viewed  \\\n",
              "0  mobile-pensacola (ft walt)     fl          Social                  13.0   \n",
              "1                    missoula     mt          Social                  13.0   \n",
              "2                  pittsburgh     pa          Social                   NaN   \n",
              "3                     atlanta     ga          Social                  20.0   \n",
              "4                 los angeles     ca          Social                   NaN   \n",
              "\n",
              "  unique_products_viewed  is_product_viewed is_product_clicked  \\\n",
              "0                    9.0                1.0                NaN   \n",
              "1                    9.0                1.0                1.0   \n",
              "2                    NaN                NaN                NaN   \n",
              "3                    9.0                1.0                NaN   \n",
              "4                    NaN                NaN                NaN   \n",
              "\n",
              "   total_product_clicks unique_product_clicks outcome_click_count  \n",
              "0                   NaN                   NaN                 NaN  \n",
              "1                   2.0                   1.0                 NaN  \n",
              "2                   NaN                   NaN                 NaN  \n",
              "3                   NaN                   NaN                 NaN  \n",
              "4                   NaN                   NaN                 NaN  \n",
              "\n",
              "[5 rows x 36 columns]"
            ]
          },
          "execution_count": 3,
          "metadata": {},
          "output_type": "execute_result"
        }
      ],
      "source": [
        "data1.head()"
      ]
    },
    {
      "cell_type": "code",
      "execution_count": null,
      "metadata": {
        "id": "nTZIAj42CwXb",
        "outputId": "a343885c-f5b0-4010-ac1d-9ca6552d0299"
      },
      "outputs": [
        {
          "name": "stdout",
          "output_type": "stream",
          "text": [
            "<class 'pandas.core.frame.DataFrame'>\n",
            "RangeIndex: 987656 entries, 0 to 987655\n",
            "Data columns (total 36 columns):\n",
            " #   Column                               Non-Null Count   Dtype  \n",
            "---  ------                               --------------   -----  \n",
            " 0   utc_sent_at                          987656 non-null  object \n",
            " 1   est_sent_at                          987656 non-null  object \n",
            " 2   webcontext_session_id                987656 non-null  object \n",
            " 3   webcontext_anonymous_id              987656 non-null  object \n",
            " 4   user_agent                           987656 non-null  object \n",
            " 5   visit_count                          977807 non-null  float64\n",
            " 6   return_visitor                       987656 non-null  int64  \n",
            " 7   unique_pages_viewed                  987656 non-null  int64  \n",
            " 8   pages_viewed                         987656 non-null  int64  \n",
            " 9   first_page_url                       987656 non-null  object \n",
            " 10  first_page_no_query_string           987656 non-null  object \n",
            " 11  first_page_referrer                  528311 non-null  object \n",
            " 12  first_page_referrer_no_query_string  528311 non-null  object \n",
            " 13  last_page_url                        987656 non-null  object \n",
            " 14  last_page_no_query_string            987656 non-null  object \n",
            " 15  scroll_distance                      438604 non-null  float64\n",
            " 16  device_type                          985416 non-null  object \n",
            " 17  is_bot                               987656 non-null  bool   \n",
            " 18  browser_name                         985416 non-null  object \n",
            " 19  manufacturer                         985416 non-null  object \n",
            " 20  os_name                              985416 non-null  object \n",
            " 21  area_codes                           957976 non-null  object \n",
            " 22  city                                 985006 non-null  object \n",
            " 23  country                              985327 non-null  object \n",
            " 24  is_business                          985416 non-null  object \n",
            " 25  is_home                              985416 non-null  object \n",
            " 26  metro_name                           985327 non-null  object \n",
            " 27  region                               985007 non-null  object \n",
            " 28  traffic_channel                      987656 non-null  object \n",
            " 29  total_products_viewed                750595 non-null  float64\n",
            " 30  unique_products_viewed               750595 non-null  float64\n",
            " 31  is_product_viewed                    750595 non-null  float64\n",
            " 32  is_product_clicked                   54001 non-null   float64\n",
            " 33  total_product_clicks                 54001 non-null   float64\n",
            " 34  unique_product_clicks                54001 non-null   float64\n",
            " 35  outcome_click_count                  71690 non-null   float64\n",
            "dtypes: bool(1), float64(9), int64(3), object(23)\n",
            "memory usage: 264.7+ MB\n"
          ]
        }
      ],
      "source": [
        "data1.info()"
      ]
    },
    {
      "cell_type": "code",
      "execution_count": null,
      "metadata": {
        "id": "k6csoq_ZCwXc",
        "outputId": "701be200-52ad-437d-8802-c180f4d4627d"
      },
      "outputs": [
        {
          "data": {
            "text/plain": [
              "iOS                    787692\n",
              "Android                102524\n",
              "Windows 10              46405\n",
              "OS X                    41841\n",
              "Chrome OS                3334\n",
              "Windows 7                1557\n",
              "Windows 8.1               818\n",
              "Unknown                   490\n",
              "Linux                     406\n",
              "Windows 8                  96\n",
              "Windows                    86\n",
              "Linux - Ubuntu             64\n",
              "Windows Vista              44\n",
              "Windows XP                 26\n",
              "Linux - Fedora              8\n",
              "Samsung proprietary         8\n",
              "RIM                         7\n",
              "Windows Phone               5\n",
              "Tizen                       3\n",
              "LG proprietary              2\n",
              "Name: os_name, dtype: int64"
            ]
          },
          "execution_count": 5,
          "metadata": {},
          "output_type": "execute_result"
        }
      ],
      "source": [
        "data1[\"os_name\"].value_counts(sort=True)"
      ]
    },
    {
      "cell_type": "code",
      "execution_count": null,
      "metadata": {
        "id": "5l9HOXtDCwXc",
        "outputId": "9593a3a1-4f85-4f02-dd19-85657b78f0e7"
      },
      "outputs": [
        {
          "data": {
            "text/plain": [
              "Mobile     843518\n",
              "Desktop     95184\n",
              "Tablet      46714\n",
              "Name: device_type, dtype: int64"
            ]
          },
          "execution_count": 6,
          "metadata": {},
          "output_type": "execute_result"
        }
      ],
      "source": [
        "data1[\"device_type\"].value_counts(sort=True)"
      ]
    },
    {
      "cell_type": "code",
      "execution_count": null,
      "metadata": {
        "id": "3rf9bK5JCwXd",
        "outputId": "b6ebbeee-add7-43f8-eb15-6e136661f24f"
      },
      "outputs": [
        {
          "data": {
            "text/plain": [
              "device_type\n",
              "Mobile     6.038453\n",
              "Tablet     6.714085\n",
              "Desktop    8.717173\n",
              "Name: unique_products_viewed, dtype: float64"
            ]
          },
          "execution_count": 7,
          "metadata": {},
          "output_type": "execute_result"
        }
      ],
      "source": [
        "data1.groupby(\"device_type\").mean()[\"unique_products_viewed\"].sort_values()"
      ]
    },
    {
      "cell_type": "code",
      "execution_count": null,
      "metadata": {
        "id": "WdM5Gy08CwXd",
        "outputId": "fdaadecc-f35a-4bee-fcf4-66a8e4e10b80"
      },
      "outputs": [
        {
          "data": {
            "text/plain": [
              "os_name\n",
              "LG proprietary          1.000000\n",
              "Windows Phone           1.200000\n",
              "Samsung proprietary     1.500000\n",
              "RIM                     2.166667\n",
              "Windows XP              2.300000\n",
              "Windows Vista           2.857143\n",
              "Windows                 3.295082\n",
              "Unknown                 3.564815\n",
              "Linux                   4.453390\n",
              "iOS                     5.680000\n",
              "Tizen                   6.000000\n",
              "Windows 8.1             7.336694\n",
              "Chrome OS               7.971760\n",
              "Windows 7               8.120930\n",
              "Linux - Ubuntu          8.270270\n",
              "Windows 8               8.384615\n",
              "Windows 10              8.624096\n",
              "OS X                    8.931919\n",
              "Android                 9.437228\n",
              "Linux - Fedora         11.000000\n",
              "Name: unique_products_viewed, dtype: float64"
            ]
          },
          "execution_count": 8,
          "metadata": {},
          "output_type": "execute_result"
        }
      ],
      "source": [
        "data1.groupby(\"os_name\").mean()[\"unique_products_viewed\"].sort_values()"
      ]
    },
    {
      "cell_type": "code",
      "execution_count": null,
      "metadata": {
        "id": "HKcr4KdmCwXe",
        "outputId": "c81a0a17-14fc-4dc2-a841-f141284f8aeb"
      },
      "outputs": [
        {
          "data": {
            "text/plain": [
              "ca           182824\n",
              "ny            96221\n",
              "tx            78078\n",
              "nj            71955\n",
              "fl            70598\n",
              "ga            41436\n",
              "il            39027\n",
              "pa            30708\n",
              "wa            29103\n",
              "ma            26338\n",
              "va            24841\n",
              "nc            20781\n",
              "md            18575\n",
              "co            17085\n",
              "mi            16231\n",
              "oh            16227\n",
              "az            14553\n",
              "mn            11167\n",
              "tn            10869\n",
              "ct             9988\n",
              "nv             9910\n",
              "mo             9085\n",
              "ut             8368\n",
              "or             8088\n",
              "hi             8087\n",
              "sc             8057\n",
              "dc             7942\n",
              "in             7125\n",
              "wi             6974\n",
              "al             6390\n",
              "la             5888\n",
              "bd             5119\n",
              "ky             4884\n",
              "ok             4707\n",
              "d              4014\n",
              "ri             3402\n",
              "ia             3203\n",
              "ks             2892\n",
              "nh             2776\n",
              "ar             2492\n",
              "ms             2452\n",
              "nm             2386\n",
              "id             2211\n",
              "me             2196\n",
              "de             2122\n",
              "ne             1872\n",
              "no region      1337\n",
              "wv             1194\n",
              "mt             1165\n",
              "vt             1163\n",
              "ak             1154\n",
              "Name: region, dtype: int64"
            ]
          },
          "execution_count": 4,
          "metadata": {},
          "output_type": "execute_result"
        }
      ],
      "source": [
        "data1[\"region\"].value_counts(sort=True).head(51)"
      ]
    },
    {
      "cell_type": "code",
      "execution_count": null,
      "metadata": {
        "id": "fpEWVwCOCwXe",
        "outputId": "1214ac31-e900-423e-c4ca-683cb90ccdc8"
      },
      "outputs": [
        {
          "data": {
            "text/plain": [
              "us    956044\n",
              "se      5293\n",
              "ie      4064\n",
              "mx      2249\n",
              "uk      1429\n",
              "ca      1285\n",
              "fr       958\n",
              "it       924\n",
              "de       879\n",
              "es       712\n",
              "Name: country, dtype: int64"
            ]
          },
          "execution_count": 14,
          "metadata": {},
          "output_type": "execute_result"
        }
      ],
      "source": [
        "data1[\"country\"].value_counts(sort=True).head(10)"
      ]
    },
    {
      "cell_type": "code",
      "execution_count": null,
      "metadata": {
        "id": "J-dnW5bJCwXf",
        "outputId": "f9b483e3-faea-4fa5-ae9c-608130a0957d"
      },
      "outputs": [
        {
          "data": {
            "text/plain": [
              "False    986511\n",
              "True       1145\n",
              "Name: is_bot, dtype: int64"
            ]
          },
          "execution_count": 16,
          "metadata": {},
          "output_type": "execute_result"
        }
      ],
      "source": [
        "data1[\"is_bot\"].value_counts(sort=True)"
      ]
    },
    {
      "cell_type": "code",
      "execution_count": null,
      "metadata": {
        "id": "jw2BXWFSCwXf",
        "outputId": "c8c9e924-0147-43fb-eb86-52c0517256de"
      },
      "outputs": [
        {
          "data": {
            "text/plain": [
              "False    799870\n",
              "True     185546\n",
              "Name: is_business, dtype: int64"
            ]
          },
          "execution_count": 17,
          "metadata": {},
          "output_type": "execute_result"
        }
      ],
      "source": [
        "data1[\"is_business\"].value_counts(sort=True)"
      ]
    },
    {
      "cell_type": "code",
      "execution_count": null,
      "metadata": {
        "id": "2AA2c9XPCwXg",
        "outputId": "7bd35131-1a17-470b-e1da-85d46101dfc4"
      },
      "outputs": [
        {
          "data": {
            "text/plain": [
              "True     799781\n",
              "False    185635\n",
              "Name: is_home, dtype: int64"
            ]
          },
          "execution_count": 18,
          "metadata": {},
          "output_type": "execute_result"
        }
      ],
      "source": [
        "data1[\"is_home\"].value_counts(sort=True)"
      ]
    },
    {
      "cell_type": "code",
      "execution_count": null,
      "metadata": {
        "id": "tz1tRFvKCwXg",
        "outputId": "86190908-4fb6-4754-d872-8a02539feff8"
      },
      "outputs": [
        {
          "data": {
            "text/plain": [
              "new york                      150506\n",
              "los angeles                    92590\n",
              "san francisco-oak-san jose     55963\n",
              "atlanta                        38231\n",
              "chicago                        36656\n",
              "washington dc (hagrstwn)       34653\n",
              "philadelphia                   33855\n",
              "dallas-ft. worth               31979\n",
              "boston (manchester)            26342\n",
              "miami-ft. lauderdale           25067\n",
              "Name: metro_name, dtype: int64"
            ]
          },
          "execution_count": 20,
          "metadata": {},
          "output_type": "execute_result"
        }
      ],
      "source": [
        "data1[\"metro_name\"].value_counts(sort=True).head(10)"
      ]
    },
    {
      "cell_type": "code",
      "execution_count": null,
      "metadata": {
        "id": "MMG6m41KCwXg",
        "outputId": "40a2f2e7-7781-4ce8-a58e-0b57e4f4cded"
      },
      "outputs": [
        {
          "data": {
            "text/plain": [
              "Social    987656\n",
              "Name: traffic_channel, dtype: int64"
            ]
          },
          "execution_count": 22,
          "metadata": {},
          "output_type": "execute_result"
        }
      ],
      "source": [
        "data1[\"traffic_channel\"].value_counts(sort=True)"
      ]
    },
    {
      "cell_type": "code",
      "execution_count": null,
      "metadata": {
        "id": "ok1JfsCCCwXh"
      },
      "outputs": [],
      "source": [
        "data1['utc_sent_at'] = pd.to_datetime(data1['utc_sent_at'])"
      ]
    },
    {
      "cell_type": "code",
      "execution_count": null,
      "metadata": {
        "id": "EZ0pmzMnCwXh"
      },
      "outputs": [],
      "source": [
        "data1['month'] = data1['utc_sent_at'].apply(lambda time: time.month)\n",
        "data1['date'] = data1['utc_sent_at'].apply(lambda time: time.date())\n",
        "data1['day_of_week'] = data1['utc_sent_at'].apply(lambda time: time.dayofweek).map({0:'Mon',1:'Tue',2:'Wed',3:'Thu',4:'Fri',5:'Sat',6:'Sun'})\n",
        "data1['hour'] = data1['utc_sent_at'].apply(lambda time: time.hour)"
      ]
    },
    {
      "cell_type": "code",
      "execution_count": null,
      "metadata": {
        "id": "yYuWWiNrCwXh",
        "outputId": "3cf5483e-3536-4f29-c073-c42dbf931d43"
      },
      "outputs": [
        {
          "data": {
            "text/plain": [
              "month\n",
              "9     602233.0\n",
              "8     812308.0\n",
              "7    1002639.0\n",
              "Name: visit_count, dtype: float64"
            ]
          },
          "execution_count": 8,
          "metadata": {},
          "output_type": "execute_result"
        }
      ],
      "source": [
        "data1.groupby('month').sum()[\"visit_count\"].sort_values()"
      ]
    },
    {
      "cell_type": "code",
      "execution_count": null,
      "metadata": {
        "id": "9hYkoOgiCwXh",
        "outputId": "65ff57ff-1766-439b-966b-964591f45063"
      },
      "outputs": [
        {
          "data": {
            "text/plain": [
              "day_of_week\n",
              "Sat    128538\n",
              "Sun    138188\n",
              "Wed    138866\n",
              "Fri    139986\n",
              "Tue    140204\n",
              "Mon    143128\n",
              "Thu    148897\n",
              "Name: visit_count, dtype: int64"
            ]
          },
          "execution_count": 11,
          "metadata": {},
          "output_type": "execute_result"
        }
      ],
      "source": [
        "data1.groupby('day_of_week').count()[\"visit_count\"].sort_values()"
      ]
    },
    {
      "cell_type": "code",
      "execution_count": null,
      "metadata": {
        "id": "u8XaToIDCwXi",
        "outputId": "76d6cec9-57e1-41b0-ba2c-ef18415d9077"
      },
      "outputs": [
        {
          "data": {
            "text/plain": [
              "<AxesSubplot:xlabel='date'>"
            ]
          },
          "execution_count": 42,
          "metadata": {},
          "output_type": "execute_result"
        },
        {
          "data": {
            "image/png": "[encoded data removed]",
            "text/plain": [
              "<Figure size 720x288 with 1 Axes>"
            ]
          },
          "metadata": {
            "needs_background": "light"
          },
          "output_type": "display_data"
        }
      ],
      "source": [
        "fig = plt.figure(figsize=(10, 4))\n",
        "data1.groupby('date').sum()[\"visit_count\"].plot()"
      ]
    },
    {
      "cell_type": "code",
      "execution_count": null,
      "metadata": {
        "id": "7vMQaCm0CwXi",
        "outputId": "422862e5-33bd-4c2a-ca4f-ae36233281fc"
      },
      "outputs": [
        {
          "data": {
            "text/plain": [
              "<AxesSubplot:xlabel='date'>"
            ]
          },
          "execution_count": 43,
          "metadata": {},
          "output_type": "execute_result"
        },
        {
          "data": {
            "image/png": "[encoded data removed]",
            "text/plain": [
              "<Figure size 720x288 with 1 Axes>"
            ]
          },
          "metadata": {
            "needs_background": "light"
          },
          "output_type": "display_data"
        }
      ],
      "source": [
        "fig = plt.figure(figsize=(10, 4))\n",
        "data1.groupby('date').sum()[\"total_products_viewed\"].plot()"
      ]
    },
    {
      "cell_type": "code",
      "execution_count": null,
      "metadata": {
        "id": "fHGcFy5TCwXi",
        "outputId": "7e0d24f8-df47-4b3c-eb12-1f6fce8b134d"
      },
      "outputs": [
        {
          "data": {
            "text/plain": [
              "<AxesSubplot:xlabel='date'>"
            ]
          },
          "execution_count": 44,
          "metadata": {},
          "output_type": "execute_result"
        },
        {
          "data": {
            "image/png": "[encoded data removed]",
            "text/plain": [
              "<Figure size 720x288 with 1 Axes>"
            ]
          },
          "metadata": {
            "needs_background": "light"
          },
          "output_type": "display_data"
        }
      ],
      "source": [
        "fig = plt.figure(figsize=(10, 4))\n",
        "data1.groupby('date').sum()[\"unique_products_viewed\"].plot()"
      ]
    },
    {
      "cell_type": "code",
      "execution_count": null,
      "metadata": {
        "id": "bjYW9St7CwXi",
        "outputId": "eec894a8-860f-4ae4-db30-83a1fe0bcb51"
      },
      "outputs": [
        {
          "data": {
            "text/plain": [
              "<AxesSubplot:xlabel='date'>"
            ]
          },
          "execution_count": 45,
          "metadata": {},
          "output_type": "execute_result"
        },
        {
          "data": {
            "image/png": "[encoded data removed]",
            "text/plain": [
              "<Figure size 720x288 with 1 Axes>"
            ]
          },
          "metadata": {
            "needs_background": "light"
          },
          "output_type": "display_data"
        }
      ],
      "source": [
        "fig = plt.figure(figsize=(10, 4))\n",
        "data1.groupby('date').sum()[\"total_products_viewed\"].plot()"
      ]
    },
    {
      "cell_type": "code",
      "execution_count": null,
      "metadata": {
        "id": "oSREZOqVCwXj",
        "outputId": "012057c3-e7dd-47f1-d6e1-c181f95129a4"
      },
      "outputs": [
        {
          "data": {
            "text/plain": [
              "<AxesSubplot:xlabel='date'>"
            ]
          },
          "execution_count": 46,
          "metadata": {},
          "output_type": "execute_result"
        },
        {
          "data": {
            "image/png": "[encoded data removed]",
            "text/plain": [
              "<Figure size 720x288 with 1 Axes>"
            ]
          },
          "metadata": {
            "needs_background": "light"
          },
          "output_type": "display_data"
        }
      ],
      "source": [
        "fig = plt.figure(figsize=(10, 4))\n",
        "data1.groupby('date').sum()[\"is_product_viewed\"].plot()"
      ]
    },
    {
      "cell_type": "code",
      "execution_count": null,
      "metadata": {
        "id": "wSD9VW5TCwXj",
        "outputId": "7be3b1cf-f995-47a0-9bda-19d8ad9b66d0"
      },
      "outputs": [
        {
          "data": {
            "text/plain": [
              "<AxesSubplot:xlabel='date'>"
            ]
          },
          "execution_count": 47,
          "metadata": {},
          "output_type": "execute_result"
        },
        {
          "data": {
            "image/png": "[encoded data removed]",
            "text/plain": [
              "<Figure size 720x288 with 1 Axes>"
            ]
          },
          "metadata": {
            "needs_background": "light"
          },
          "output_type": "display_data"
        }
      ],
      "source": [
        "fig = plt.figure(figsize=(10, 4))\n",
        "data1.groupby('date').sum()[\"is_product_clicked\"].plot()"
      ]
    },
    {
      "cell_type": "code",
      "execution_count": null,
      "metadata": {
        "id": "__tUaqqWCwXj",
        "outputId": "6138b364-3452-4176-8e26-62b7e9ebf4f5"
      },
      "outputs": [
        {
          "data": {
            "text/plain": [
              "date\n",
              "2021-09-11     1355.0\n",
              "2021-09-26    14749.0\n",
              "2021-09-27    15474.0\n",
              "2021-09-12    16824.0\n",
              "2021-09-03    17114.0\n",
              "2021-09-25    17254.0\n",
              "2021-09-05    17327.0\n",
              "2021-09-24    17851.0\n",
              "2021-09-23    17899.0\n",
              "2021-09-04    18626.0\n",
              "2021-09-10    18852.0\n",
              "2021-09-21    19312.0\n",
              "2021-08-30    19474.0\n",
              "2021-09-28    19693.0\n",
              "2021-09-18    20212.0\n",
              "2021-09-29    20267.0\n",
              "2021-09-19    20319.0\n",
              "2021-09-07    20717.0\n",
              "2021-08-27    20735.0\n",
              "2021-09-09    20775.0\n",
              "2021-08-31    20958.0\n",
              "2021-08-28    21440.0\n",
              "2021-09-30    21536.0\n",
              "2021-08-07    21604.0\n",
              "2021-09-02    21661.0\n",
              "2021-09-06    21900.0\n",
              "2021-09-22    22261.0\n",
              "2021-08-08    22471.0\n",
              "2021-09-01    22709.0\n",
              "2021-09-08    23261.0\n",
              "2021-08-26    23315.0\n",
              "Name: visit_count, dtype: float64"
            ]
          },
          "execution_count": 48,
          "metadata": {},
          "output_type": "execute_result"
        }
      ],
      "source": [
        "visit_count = data1.groupby('date').sum()[\"visit_count\"]\n",
        "visit_count.sort_values().head(31)"
      ]
    },
    {
      "cell_type": "code",
      "execution_count": null,
      "metadata": {
        "id": "ahpAOLIaCwXj",
        "outputId": "54dc0b71-99cd-4d02-dbba-19d867314376"
      },
      "outputs": [
        {
          "data": {
            "text/plain": [
              "date\n",
              "2021-09-11      5.0\n",
              "2021-09-12    414.0\n",
              "2021-08-12    424.0\n",
              "2021-09-10    426.0\n",
              "2021-09-27    437.0\n",
              "2021-09-25    444.0\n",
              "2021-09-26    451.0\n",
              "2021-09-24    455.0\n",
              "2021-08-19    456.0\n",
              "2021-08-06    463.0\n",
              "2021-08-08    470.0\n",
              "2021-09-04    474.0\n",
              "2021-09-09    480.0\n",
              "2021-08-04    482.0\n",
              "2021-08-13    486.0\n",
              "2021-09-23    487.0\n",
              "2021-09-28    490.0\n",
              "2021-08-16    490.0\n",
              "2021-08-05    497.0\n",
              "2021-08-14    502.0\n",
              "2021-08-20    506.0\n",
              "2021-08-09    507.0\n",
              "2021-08-22    508.0\n",
              "2021-08-21    510.0\n",
              "2021-09-21    520.0\n",
              "2021-07-30    520.0\n",
              "2021-09-08    524.0\n",
              "2021-08-03    529.0\n",
              "2021-09-03    531.0\n",
              "2021-08-27    532.0\n",
              "2021-09-18    532.0\n",
              "Name: is_product_clicked, dtype: float64"
            ]
          },
          "execution_count": 49,
          "metadata": {},
          "output_type": "execute_result"
        }
      ],
      "source": [
        "click = data1.groupby('date').sum()[\"is_product_clicked\"]\n",
        "click.sort_values().head(31)"
      ]
    },
    {
      "cell_type": "code",
      "execution_count": null,
      "metadata": {
        "id": "Ckqa4QMSCwXj",
        "outputId": "64fc56ce-3b9f-44b3-c0f3-b48d9b976f43"
      },
      "outputs": [
        {
          "data": {
            "text/plain": [
              "date\n",
              "2021-09-11     104.0\n",
              "2021-09-24    5557.0\n",
              "2021-09-26    5608.0\n",
              "2021-09-27    5635.0\n",
              "2021-09-25    5647.0\n",
              "2021-09-23    5691.0\n",
              "2021-09-28    5993.0\n",
              "2021-09-12    6247.0\n",
              "2021-08-06    6578.0\n",
              "2021-09-30    6618.0\n",
              "2021-09-10    6711.0\n",
              "2021-09-22    6897.0\n",
              "2021-08-07    6934.0\n",
              "2021-09-29    6937.0\n",
              "2021-09-04    7095.0\n",
              "2021-07-21    7140.0\n",
              "2021-09-19    7217.0\n",
              "2021-08-04    7295.0\n",
              "2021-09-21    7321.0\n",
              "2021-08-08    7354.0\n",
              "2021-09-03    7435.0\n",
              "2021-09-05    7475.0\n",
              "2021-09-02    7479.0\n",
              "2021-07-30    7675.0\n",
              "2021-07-20    7678.0\n",
              "2021-07-29    7728.0\n",
              "2021-08-03    7743.0\n",
              "2021-08-27    7782.0\n",
              "2021-09-18    7833.0\n",
              "2021-08-30    7851.0\n",
              "2021-07-31    7855.0\n",
              "Name: is_product_viewed, dtype: float64"
            ]
          },
          "execution_count": 37,
          "metadata": {},
          "output_type": "execute_result"
        }
      ],
      "source": [
        "view = data1.groupby('date').sum()[\"is_product_viewed\"]\n",
        "view.sort_values().head(31)"
      ]
    },
    {
      "cell_type": "code",
      "execution_count": null,
      "metadata": {
        "id": "W40NlrAkCwXk",
        "outputId": "9c15ff1b-6d04-45e3-f1a0-1a5a2a642c0d"
      },
      "outputs": [
        {
          "data": {
            "text/plain": [
              "date\n",
              "2021-09-11    0.048077\n",
              "2021-08-12    0.053066\n",
              "2021-08-13    0.053952\n",
              "2021-08-19    0.057107\n",
              "2021-08-14    0.057648\n",
              "2021-07-18    0.058537\n",
              "2021-08-20    0.058714\n",
              "2021-08-22    0.059035\n",
              "2021-07-16    0.059694\n",
              "2021-09-09    0.060249\n",
              "dtype: float64"
            ]
          },
          "execution_count": 56,
          "metadata": {},
          "output_type": "execute_result"
        }
      ],
      "source": [
        "ctr = click/view\n",
        "ctr.sort_values().head(10)"
      ]
    },
    {
      "cell_type": "code",
      "execution_count": null,
      "metadata": {
        "id": "6kectGP4CwXk",
        "outputId": "c22507e5-7dd2-4923-be68-66651d3265a6"
      },
      "outputs": [
        {
          "data": {
            "text/plain": [
              "<AxesSubplot:xlabel='date'>"
            ]
          },
          "execution_count": 54,
          "metadata": {},
          "output_type": "execute_result"
        },
        {
          "data": {
            "image/png": "[encoded data removed]",
            "text/plain": [
              "<Figure size 720x288 with 1 Axes>"
            ]
          },
          "metadata": {
            "needs_background": "light"
          },
          "output_type": "display_data"
        }
      ],
      "source": [
        "fig = plt.figure(figsize=(10, 4))\n",
        "ctr.plot()"
      ]
    },
    {
      "cell_type": "code",
      "execution_count": null,
      "metadata": {
        "id": "GJusqLDCCwXk",
        "outputId": "3a7a6565-0d1f-4c55-f0f2-b3cbafe99184"
      },
      "outputs": [
        {
          "data": {
            "text/plain": [
              "ffddb487-2ef8-45e9-9833-611f972c5e73    77\n",
              "9e6b8f1d-8045-4ba2-823b-7adf62572757    66\n",
              "0c972efa-0e76-46cd-ae0f-bce8f0147cc1    64\n",
              "30632993-2bb1-4aff-a36a-3e07f60e05c1    54\n",
              "93eac67c-26fb-4960-8134-fef8d68d6d90    51\n",
              "                                        ..\n",
              "e470fa44-aae9-43f3-8348-e1348da79608     1\n",
              "4b23438a-25b2-4996-b2fa-a609fee03d17     1\n",
              "c73b44c8-9191-428e-8fde-2fc53454fbe0     1\n",
              "698bc890-66c3-4923-8d53-7c1aeaff3b9e     1\n",
              "e01d70aa-44ae-40b6-be9a-782e847f164f     1\n",
              "Name: webcontext_anonymous_id, Length: 869071, dtype: int64"
            ]
          },
          "execution_count": 6,
          "metadata": {},
          "output_type": "execute_result"
        }
      ],
      "source": [
        "data1['webcontext_anonymous_id'].value_counts(sort=True)"
      ]
    },
    {
      "cell_type": "code",
      "execution_count": null,
      "metadata": {
        "id": "Cjuqt0iCCwXk"
      },
      "outputs": [],
      "source": [
        ""
      ]
    }
  ],
  "metadata": {
    "kernelspec": {
      "display_name": "Python 3",
      "language": "python",
      "name": "python3"
    },
    "language_info": {
      "codemirror_mode": {
        "name": "ipython",
        "version": 3
      },
      "file_extension": ".py",
      "mimetype": "text/x-python",
      "name": "python",
      "nbconvert_exporter": "python",
      "pygments_lexer": "ipython3",
      "version": "3.8.5"
    },
    "colab": {
      "name": "practicum_july_to_oct.ipynb",
      "provenance": [],
      "include_colab_link": true
    }
  },
  "nbformat": 4,
  "nbformat_minor": 0
}